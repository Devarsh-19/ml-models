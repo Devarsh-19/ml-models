{
 "cells": [
  {
   "cell_type": "code",
   "execution_count": 7,
   "metadata": {},
   "outputs": [
    {
     "name": "stdout",
     "output_type": "stream",
     "text": [
      "Requirement already satisfied: kaggle in c:\\users\\devarsh\\appdata\\local\\programs\\python\\python310\\lib\\site-packages (1.5.12)\n",
      "Requirement already satisfied: urllib3 in c:\\users\\devarsh\\appdata\\local\\programs\\python\\python310\\lib\\site-packages (from kaggle) (1.26.9)\n",
      "Requirement already satisfied: certifi in c:\\users\\devarsh\\appdata\\local\\programs\\python\\python310\\lib\\site-packages (from kaggle) (2022.5.18.1)\n",
      "Requirement already satisfied: python-slugify in c:\\users\\devarsh\\appdata\\local\\programs\\python\\python310\\lib\\site-packages (from kaggle) (6.1.2)\n",
      "Requirement already satisfied: python-dateutil in c:\\users\\devarsh\\appdata\\local\\programs\\python\\python310\\lib\\site-packages (from kaggle) (2.8.2)\n",
      "Requirement already satisfied: six>=1.10 in c:\\users\\devarsh\\appdata\\local\\programs\\python\\python310\\lib\\site-packages (from kaggle) (1.16.0)\n",
      "Requirement already satisfied: tqdm in c:\\users\\devarsh\\appdata\\local\\programs\\python\\python310\\lib\\site-packages (from kaggle) (4.64.0)\n",
      "Requirement already satisfied: requests in c:\\users\\devarsh\\appdata\\local\\programs\\python\\python310\\lib\\site-packages (from kaggle) (2.28.0)\n",
      "Requirement already satisfied: text-unidecode>=1.3 in c:\\users\\devarsh\\appdata\\local\\programs\\python\\python310\\lib\\site-packages (from python-slugify->kaggle) (1.3)\n",
      "Requirement already satisfied: idna<4,>=2.5 in c:\\users\\devarsh\\appdata\\local\\programs\\python\\python310\\lib\\site-packages (from requests->kaggle) (3.3)\n",
      "Requirement already satisfied: charset-normalizer~=2.0.0 in c:\\users\\devarsh\\appdata\\local\\programs\\python\\python310\\lib\\site-packages (from requests->kaggle) (2.0.12)\n",
      "Requirement already satisfied: colorama in c:\\users\\devarsh\\appdata\\local\\programs\\python\\python310\\lib\\site-packages (from tqdm->kaggle) (0.4.4)\n"
     ]
    }
   ],
   "source": [
    "!pip install kaggle"
   ]
  },
  {
   "cell_type": "code",
   "execution_count": 11,
   "metadata": {},
   "outputs": [
    {
     "name": "stdout",
     "output_type": "stream",
     "text": [
      "Downloading titanic.zip to d:\\ssssssssshhhh\\ml models\\kaggle-titanic"
     ]
    },
    {
     "name": "stderr",
     "output_type": "stream",
     "text": [
      "\n",
      "  0%|          | 0.00/34.1k [00:00<?, ?B/s]\n",
      "100%|██████████| 34.1k/34.1k [00:00<?, ?B/s]\n"
     ]
    },
    {
     "name": "stdout",
     "output_type": "stream",
     "text": [
      "\n",
      "\n"
     ]
    }
   ],
   "source": [
    "!kaggle competitions download -c titanic"
   ]
  },
  {
   "cell_type": "code",
   "execution_count": null,
   "metadata": {},
   "outputs": [],
   "source": []
  }
 ],
 "metadata": {
  "kernelspec": {
   "display_name": "Python 3.10.4 64-bit",
   "language": "python",
   "name": "python3"
  },
  "language_info": {
   "codemirror_mode": {
    "name": "ipython",
    "version": 3
   },
   "file_extension": ".py",
   "mimetype": "text/x-python",
   "name": "python",
   "nbconvert_exporter": "python",
   "pygments_lexer": "ipython3",
   "version": "3.10.4"
  },
  "orig_nbformat": 4,
  "vscode": {
   "interpreter": {
    "hash": "cecab1c62bf5f46c5b64058ea8db1651937b504b1ea85c6e05aaa62282c0dbed"
   }
  }
 },
 "nbformat": 4,
 "nbformat_minor": 2
}
